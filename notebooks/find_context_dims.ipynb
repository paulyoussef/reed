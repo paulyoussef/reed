{
 "cells": [
  {
   "cell_type": "code",
   "execution_count": 19,
   "metadata": {},
   "outputs": [],
   "source": [
    "import numpy as np\n",
    "import pandas as pd"
   ]
  },
  {
   "cell_type": "code",
   "execution_count": 20,
   "metadata": {},
   "outputs": [],
   "source": [
    "model_name_split = 'gpt2-xl'\n",
    "model_name_split = 'gpt-j-6b'\n",
    "model_name_split = 'Meta-Llama-3.1-8B'\n",
    "\n",
    "dataset = 'mquake'\n",
    "if 'gpt-j' in model_name_split:\n",
    "    seeds = [i+1 for i in range(5)]\n",
    "elif 'gpt2-xl' in model_name_split:\n",
    "    seeds = [i+1 for i in range(5)]\n",
    "elif 'llama' in model_name_split.lower():\n",
    "    seeds = [i+1 for i in range(5)]"
   ]
  },
  {
   "cell_type": "code",
   "execution_count": null,
   "metadata": {},
   "outputs": [],
   "source": [
    "dfs = []\n",
    "for s in seeds: \n",
    "    df = pd.read_csv(f'../src/context-dims/{dataset}/{s}/results_tuned.csv', names = ['model', 'setting', 'entropy', 'epochs', '#reversal_tokens', 'repeat_factor', 'lweight', 'det. acc.', 'match acc.'])\n",
    "    df['seed'] = [s]*len(df)\n",
    "    dfs.append(df)\n",
    "final_df = pd.concat(dfs)\n",
    "final_df.head(2)"
   ]
  },
  {
   "cell_type": "code",
   "execution_count": null,
   "metadata": {},
   "outputs": [],
   "source": [
    "final_df = final_df[final_df['setting'] == 'unedited vs. tuned']\n",
    "final_df = final_df[final_df['model'].str.contains(model_name_split)]\n",
    "len(final_df)\n"
   ]
  },
  {
   "cell_type": "code",
   "execution_count": null,
   "metadata": {},
   "outputs": [],
   "source": [
    "median_value = final_df['match acc.'].median()\n",
    "final_df = final_df[final_df.apply(lambda x: np.isclose(x['match acc.'], median_value), axis=1)]\n",
    "print(len(final_df))\n",
    "\n",
    "seeds = final_df['seed'].values\n",
    "print(final_df['match acc.'].median())\n",
    "seeds"
   ]
  },
  {
   "cell_type": "code",
   "execution_count": null,
   "metadata": {},
   "outputs": [],
   "source": [
    "final_df['match acc.']"
   ]
  },
  {
   "cell_type": "code",
   "execution_count": null,
   "metadata": {},
   "outputs": [],
   "source": [
    "init_e = [np.loadtxt(f'../src/context-dims/{dataset}/{seed}/{model_name_split}_epochs_3_rt_1_rf_1_[reversal_token_1]_lambda_0.5_init.txt') for seed in seeds ]\n",
    "final_e = [np.loadtxt(f'../src/context-dims/{dataset}/{seed}/{model_name_split}_epochs_3_rt_1_rf_1_[reversal_token_1]_lambda_0.5.txt') for seed in seeds ]\n",
    "print(len(init_e))\n",
    "assert len(init_e) == len(final_e)"
   ]
  },
  {
   "cell_type": "code",
   "execution_count": null,
   "metadata": {},
   "outputs": [],
   "source": [
    "init_e"
   ]
  },
  {
   "cell_type": "code",
   "execution_count": 27,
   "metadata": {},
   "outputs": [],
   "source": [
    "init_e = np.mean(init_e, axis=0)\n",
    "final_e = np.mean(final_e, axis=0)"
   ]
  },
  {
   "cell_type": "code",
   "execution_count": null,
   "metadata": {},
   "outputs": [],
   "source": [
    "init_e"
   ]
  },
  {
   "cell_type": "code",
   "execution_count": 29,
   "metadata": {},
   "outputs": [],
   "source": [
    "weights = np.abs(init_e - final_e) /np.sum(np.abs(init_e - final_e))"
   ]
  },
  {
   "cell_type": "code",
   "execution_count": null,
   "metadata": {},
   "outputs": [],
   "source": [
    "np.median(weights)*100"
   ]
  },
  {
   "cell_type": "code",
   "execution_count": null,
   "metadata": {},
   "outputs": [],
   "source": [
    "weights.max()*100"
   ]
  },
  {
   "cell_type": "code",
   "execution_count": null,
   "metadata": {},
   "outputs": [],
   "source": [
    "weights.min()*100"
   ]
  },
  {
   "cell_type": "code",
   "execution_count": null,
   "metadata": {},
   "outputs": [],
   "source": [
    "weights_inverted = 1/weights\n",
    "weights_inverted = weights_inverted/weights_inverted.sum()\n",
    "weights_inverted.sum()"
   ]
  },
  {
   "cell_type": "code",
   "execution_count": null,
   "metadata": {},
   "outputs": [],
   "source": [
    "weights_inverted.max()"
   ]
  },
  {
   "cell_type": "code",
   "execution_count": null,
   "metadata": {},
   "outputs": [],
   "source": [
    "near_zero_count = np.sum( weights > 0.001)\n",
    "\n",
    "print(f\"Number of elements near zero: {near_zero_count}\")"
   ]
  },
  {
   "cell_type": "code",
   "execution_count": null,
   "metadata": {},
   "outputs": [],
   "source": [
    "np.savetxt(f'../context-weights/{dataset}/{model_name_split}.txt', weights) # which dimensions are important for resetting context     "
   ]
  },
  {
   "cell_type": "code",
   "execution_count": 37,
   "metadata": {},
   "outputs": [],
   "source": [
    "np.savetxt(f'../context-weights/{dataset}/{model_name_split}_inverted.txt', weights_inverted) # which dimensions should be given higher weights in cosloss (penalize changes across these dimensions)"
   ]
  }
 ],
 "metadata": {
  "kernelspec": {
   "display_name": "ike",
   "language": "python",
   "name": "python3"
  },
  "language_info": {
   "codemirror_mode": {
    "name": "ipython",
    "version": 3
   },
   "file_extension": ".py",
   "mimetype": "text/x-python",
   "name": "python",
   "nbconvert_exporter": "python",
   "pygments_lexer": "ipython3",
   "version": "3.9.12"
  }
 },
 "nbformat": 4,
 "nbformat_minor": 2
}
